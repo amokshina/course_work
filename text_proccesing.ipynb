{
 "cells": [
  {
   "cell_type": "code",
   "execution_count": 1,
   "metadata": {},
   "outputs": [],
   "source": [
    "import pandas as pd\n",
    "import re\n",
    "import nltk\n",
    "from nltk.corpus import stopwords"
   ]
  },
  {
   "cell_type": "markdown",
   "metadata": {},
   "source": [
    "Очистка текста включает в себя:\n",
    "\n",
    "Удаление лишних символов (например, пунктуации, специальные символы).\n",
    "Приведение текста к нижнему регистру.\n",
    "Удаление стоп-слов (неинформативных слов)."
   ]
  },
  {
   "cell_type": "code",
   "execution_count": 2,
   "metadata": {},
   "outputs": [
    {
     "name": "stderr",
     "output_type": "stream",
     "text": [
      "[nltk_data] Downloading package stopwords to\n",
      "[nltk_data]     C:\\Users\\an23m\\AppData\\Roaming\\nltk_data...\n",
      "[nltk_data]   Unzipping corpora\\stopwords.zip.\n"
     ]
    }
   ],
   "source": [
    "nltk.download('stopwords')\n",
    "stop_words = set(stopwords.words('russian'))\n",
    "\n",
    "def clean_text(text):\n",
    "    # Удаляем специальные символы и приводим к нижнему регистру\n",
    "    text = re.sub(r'[^\\w\\s]', '', text)\n",
    "    text = text.lower()\n",
    "    \n",
    "    # Удаляем стоп-слова\n",
    "    text = ' '.join(word for word in text.split() if word not in stop_words)\n",
    "    \n",
    "    return text"
   ]
  },
  {
   "cell_type": "markdown",
   "metadata": {},
   "source": [
    "После очистки текста можно разбить его на отдельные слова (токены):"
   ]
  },
  {
   "cell_type": "code",
   "execution_count": 3,
   "metadata": {},
   "outputs": [],
   "source": [
    "def tokenize(text):\n",
    "    return text.split()"
   ]
  },
  {
   "cell_type": "markdown",
   "metadata": {},
   "source": [
    "Лемматизация или стемминг\n",
    "Вы можете использовать nltk или pymorphy2 для лемматизации:"
   ]
  },
  {
   "cell_type": "code",
   "execution_count": 6,
   "metadata": {},
   "outputs": [],
   "source": [
    "import pymorphy2\n",
    "\n",
    "morph = pymorphy2.MorphAnalyzer()\n",
    "\n",
    "def lemmatize(tokens):\n",
    "    return [morph.parse(token)[0].normal_form for token in tokens]"
   ]
  },
  {
   "cell_type": "code",
   "execution_count": 7,
   "metadata": {},
   "outputs": [],
   "source": [
    "def preprocess_text(text):\n",
    "    cleaned = clean_text(text)\n",
    "    tokens = tokenize(cleaned)\n",
    "    lemmatized = lemmatize(tokens)\n",
    "    return lemmatized"
   ]
  },
  {
   "cell_type": "markdown",
   "metadata": {},
   "source": [
    "Применение предобработки к данным"
   ]
  },
  {
   "cell_type": "code",
   "execution_count": 13,
   "metadata": {},
   "outputs": [],
   "source": [
    "# Пример извлечения данных из базы и применения предобработки\n",
    "import psycopg2\n",
    "\n",
    "# Установите соединение с вашей базой данных\n",
    "conn = psycopg2.connect(\"dbname=azs user=postgres password=f8ysz789\")\n",
    "cur = conn.cursor()\n",
    "\n",
    "cur.execute(\"SELECT comment_text FROM buffer.azs_review limit 1;\")\n",
    "rows = cur.fetchall()\n",
    "\n",
    "preprocessed_reviews = [preprocess_text(row[0]) for row in rows]\n",
    "\n",
    "# Не забудьте закрыть соединение\n",
    "cur.close()\n",
    "conn.close()"
   ]
  },
  {
   "cell_type": "code",
   "execution_count": 14,
   "metadata": {},
   "outputs": [
    {
     "data": {
      "text/plain": [
       "[['заехать',\n",
       "  'дорога',\n",
       "  'покушать',\n",
       "  '9',\n",
       "  'вечер',\n",
       "  'очень',\n",
       "  'вежливый',\n",
       "  'обслуживание',\n",
       "  'улыбчивый',\n",
       "  'доброжелательный',\n",
       "  'персонал',\n",
       "  'вкусный',\n",
       "  'еда',\n",
       "  'взять',\n",
       "  'удон',\n",
       "  'карбонар',\n",
       "  'чизбургер',\n",
       "  'всё',\n",
       "  'понравиться',\n",
       "  'туалет',\n",
       "  'чистый',\n",
       "  'бумага',\n",
       "  'мыло',\n",
       "  'наличие',\n",
       "  'приятный',\n",
       "  'остановка',\n",
       "  'путь',\n",
       "  'домой']]"
      ]
     },
     "execution_count": 14,
     "metadata": {},
     "output_type": "execute_result"
    }
   ],
   "source": [
    "preprocessed_reviews"
   ]
  }
 ],
 "metadata": {
  "kernelspec": {
   "display_name": "cw",
   "language": "python",
   "name": "python3"
  },
  "language_info": {
   "codemirror_mode": {
    "name": "ipython",
    "version": 3
   },
   "file_extension": ".py",
   "mimetype": "text/x-python",
   "name": "python",
   "nbconvert_exporter": "python",
   "pygments_lexer": "ipython3",
   "version": "3.10.14"
  }
 },
 "nbformat": 4,
 "nbformat_minor": 2
}
