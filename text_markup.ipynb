{
 "cells": [
  {
   "cell_type": "code",
   "execution_count": 7,
   "metadata": {},
   "outputs": [
    {
     "name": "stdout",
     "output_type": "stream",
     "text": [
      "Все тексты размечены!\n"
     ]
    }
   ],
   "source": [
    "import ipywidgets as widgets\n",
    "from IPython.display import display, clear_output\n",
    "import pandas as pd\n",
    "\n",
    "# Пример текстов для разметки\n",
    "texts = [\n",
    "    \"Этот текст положительный\",\n",
    "    \"Этот текст негативный\",\n",
    "    \"Этот текст нейтральный\",\n",
    "    \"Плохая ситуация\",\n",
    "    \"Хорошее настроение\"\n",
    "]\n",
    "\n",
    "# Список для хранения результатов\n",
    "annotated_data = []\n",
    "\n",
    "# Индекс текущего текста\n",
    "index = 0\n",
    "\n",
    "def show_next_text():\n",
    "    \"\"\"Отображает следующий текст для разметки.\"\"\"\n",
    "    global index\n",
    "    clear_output(wait=True)\n",
    "    \n",
    "    if index >= len(texts):\n",
    "        print(\"Все тексты размечены!\")\n",
    "        return\n",
    "    \n",
    "    text = texts[index]\n",
    "    \n",
    "    # Отображаем текст\n",
    "    print(f\"Текст {index + 1}/{len(texts)}:\")\n",
    "    print(text)\n",
    "    \n",
    "    # Создаем три кнопки для меток\n",
    "    positive_button = widgets.Button(description=\"Положительный\", button_style='success')\n",
    "    neutral_button = widgets.Button(description=\"Нейтральный\", button_style='warning')\n",
    "    negative_button = widgets.Button(description=\"Негативный\", button_style='danger')\n",
    "    \n",
    "    # Функция обработки нажатия кнопки\n",
    "    def on_button_click(label):\n",
    "        global index\n",
    "        annotated_data.append((text, label))  # Сохраняем текст и выбранную метку\n",
    "        index += 1\n",
    "        show_next_text()  # Переходим к следующему тексту\n",
    "    \n",
    "    # Привязываем функции к каждой кнопке\n",
    "    positive_button.on_click(lambda x: on_button_click('Положительный'))\n",
    "    neutral_button.on_click(lambda x: on_button_click('Нейтральный'))\n",
    "    negative_button.on_click(lambda x: on_button_click('Негативный'))\n",
    "    \n",
    "    # Располагаем кнопки горизонтально с выравниванием по центру\n",
    "    button_box = widgets.HBox([positive_button, neutral_button, negative_button],\n",
    "                              layout=widgets.Layout(justify_content='center'))\n",
    "    \n",
    "    # Отображаем горизонтально расположенные кнопки с выравниванием по центру\n",
    "    display(button_box)\n",
    "\n",
    "# Старт разметки\n",
    "show_next_text()\n",
    "\n",
    "# Функция для вывода результатов в конце\n",
    "def export_results():\n",
    "    \"\"\"Экспортирует размеченные данные в DataFrame.\"\"\"\n",
    "    df = pd.DataFrame(annotated_data, columns=[\"Текст\", \"Метка\"])\n",
    "    return df\n"
   ]
  },
  {
   "cell_type": "code",
   "execution_count": 8,
   "metadata": {},
   "outputs": [
    {
     "data": {
      "text/html": [
       "<div>\n",
       "<style scoped>\n",
       "    .dataframe tbody tr th:only-of-type {\n",
       "        vertical-align: middle;\n",
       "    }\n",
       "\n",
       "    .dataframe tbody tr th {\n",
       "        vertical-align: top;\n",
       "    }\n",
       "\n",
       "    .dataframe thead th {\n",
       "        text-align: right;\n",
       "    }\n",
       "</style>\n",
       "<table border=\"1\" class=\"dataframe\">\n",
       "  <thead>\n",
       "    <tr style=\"text-align: right;\">\n",
       "      <th></th>\n",
       "      <th>Текст</th>\n",
       "      <th>Метка</th>\n",
       "    </tr>\n",
       "  </thead>\n",
       "  <tbody>\n",
       "    <tr>\n",
       "      <th>0</th>\n",
       "      <td>Этот текст положительный</td>\n",
       "      <td>Положительный</td>\n",
       "    </tr>\n",
       "    <tr>\n",
       "      <th>1</th>\n",
       "      <td>Этот текст негативный</td>\n",
       "      <td>Негативный</td>\n",
       "    </tr>\n",
       "    <tr>\n",
       "      <th>2</th>\n",
       "      <td>Этот текст нейтральный</td>\n",
       "      <td>Нейтральный</td>\n",
       "    </tr>\n",
       "    <tr>\n",
       "      <th>3</th>\n",
       "      <td>Плохая ситуация</td>\n",
       "      <td>Негативный</td>\n",
       "    </tr>\n",
       "    <tr>\n",
       "      <th>4</th>\n",
       "      <td>Хорошее настроение</td>\n",
       "      <td>Положительный</td>\n",
       "    </tr>\n",
       "  </tbody>\n",
       "</table>\n",
       "</div>"
      ],
      "text/plain": [
       "                      Текст          Метка\n",
       "0  Этот текст положительный  Положительный\n",
       "1     Этот текст негативный     Негативный\n",
       "2    Этот текст нейтральный    Нейтральный\n",
       "3           Плохая ситуация     Негативный\n",
       "4        Хорошее настроение  Положительный"
      ]
     },
     "execution_count": 8,
     "metadata": {},
     "output_type": "execute_result"
    }
   ],
   "source": [
    "export_results()"
   ]
  }
 ],
 "metadata": {
  "kernelspec": {
   "display_name": "cw",
   "language": "python",
   "name": "python3"
  },
  "language_info": {
   "codemirror_mode": {
    "name": "ipython",
    "version": 3
   },
   "file_extension": ".py",
   "mimetype": "text/x-python",
   "name": "python",
   "nbconvert_exporter": "python",
   "pygments_lexer": "ipython3",
   "version": "3.10.14"
  }
 },
 "nbformat": 4,
 "nbformat_minor": 2
}
